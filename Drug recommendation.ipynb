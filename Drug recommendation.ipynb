{
 "cells": [
  {
   "cell_type": "code",
   "execution_count": 1,
   "metadata": {},
   "outputs": [],
   "source": [
    "#importing libraries"
   ]
  },
  {
   "cell_type": "code",
   "execution_count": 2,
   "metadata": {},
   "outputs": [],
   "source": [
    "import pandas as pd"
   ]
  },
  {
   "cell_type": "code",
   "execution_count": 3,
   "metadata": {},
   "outputs": [],
   "source": [
    "from pandas import read_csv\n",
    "import numpy as np\n",
    "import matplotlib.pyplot as plt"
   ]
  },
  {
   "cell_type": "code",
   "execution_count": 89,
   "metadata": {},
   "outputs": [],
   "source": [
    "import seaborn as sns"
   ]
  },
  {
   "cell_type": "code",
   "execution_count": 92,
   "metadata": {},
   "outputs": [
    {
     "data": {
      "text/plain": [
       "<matplotlib.axes._subplots.AxesSubplot at 0x26f88c4ed68>"
      ]
     },
     "execution_count": 92,
     "metadata": {},
     "output_type": "execute_result"
    },
    {
     "data": {
      "image/png": "[encoded data removed]",
      "text/plain": [
       "<Figure size 432x288 with 2 Axes>"
      ]
     },
     "metadata": {
      "needs_background": "light"
     },
     "output_type": "display_data"
    }
   ],
   "source": [
    "sns.heatmap(data.corr())"
   ]
  },
  {
   "cell_type": "code",
   "execution_count": 93,
   "metadata": {},
   "outputs": [
    {
     "data": {
      "text/html": [
       "<div>\n",
       "<style scoped>\n",
       "    .dataframe tbody tr th:only-of-type {\n",
       "        vertical-align: middle;\n",
       "    }\n",
       "\n",
       "    .dataframe tbody tr th {\n",
       "        vertical-align: top;\n",
       "    }\n",
       "\n",
       "    .dataframe thead th {\n",
       "        text-align: right;\n",
       "    }\n",
       "</style>\n",
       "<table border=\"1\" class=\"dataframe\">\n",
       "  <thead>\n",
       "    <tr style=\"text-align: right;\">\n",
       "      <th></th>\n",
       "      <th>Drug</th>\n",
       "      <th>Disease</th>\n",
       "      <th>Gender</th>\n",
       "      <th>Age</th>\n",
       "    </tr>\n",
       "  </thead>\n",
       "  <tbody>\n",
       "    <tr>\n",
       "      <th>0</th>\n",
       "      <td>A CN Gel(Topical) 20gmA CN Soap 75gm</td>\n",
       "      <td>Acne</td>\n",
       "      <td>Male</td>\n",
       "      <td>23</td>\n",
       "    </tr>\n",
       "    <tr>\n",
       "      <th>1</th>\n",
       "      <td>A Ret 0.05% Gel 20gmA Ret 0.1% Gel 20gmA Ret 0...</td>\n",
       "      <td>Acne</td>\n",
       "      <td>Male</td>\n",
       "      <td>23</td>\n",
       "    </tr>\n",
       "    <tr>\n",
       "      <th>2</th>\n",
       "      <td>ACGEL CL NANO Gel 15gm</td>\n",
       "      <td>Acne</td>\n",
       "      <td>Male</td>\n",
       "      <td>23</td>\n",
       "    </tr>\n",
       "    <tr>\n",
       "      <th>3</th>\n",
       "      <td>ACGEL NANO Gel 15gm</td>\n",
       "      <td>Acne</td>\n",
       "      <td>Male</td>\n",
       "      <td>23</td>\n",
       "    </tr>\n",
       "    <tr>\n",
       "      <th>4</th>\n",
       "      <td>Acleen 1% Lotion 25ml</td>\n",
       "      <td>Acne</td>\n",
       "      <td>Male</td>\n",
       "      <td>23</td>\n",
       "    </tr>\n",
       "  </tbody>\n",
       "</table>\n",
       "</div>"
      ],
      "text/plain": [
       "                                                Drug Disease Gender  Age\n",
       "0               A CN Gel(Topical) 20gmA CN Soap 75gm    Acne   Male   23\n",
       "1  A Ret 0.05% Gel 20gmA Ret 0.1% Gel 20gmA Ret 0...    Acne   Male   23\n",
       "2                             ACGEL CL NANO Gel 15gm    Acne   Male   23\n",
       "3                                ACGEL NANO Gel 15gm    Acne   Male   23\n",
       "4                              Acleen 1% Lotion 25ml    Acne   Male   23"
      ]
     },
     "execution_count": 93,
     "metadata": {},
     "output_type": "execute_result"
    }
   ],
   "source": [
    "# loading dataset\n",
    "filename = 'Drug.csv'\n",
    "data= read_csv(filename)\n",
    "data.head()"
   ]
  },
  {
   "cell_type": "code",
   "execution_count": 94,
   "metadata": {},
   "outputs": [
    {
     "data": {
      "text/plain": [
       "Drug       object\n",
       "Disease    object\n",
       "Gender     object\n",
       "Age         int64\n",
       "dtype: object"
      ]
     },
     "execution_count": 94,
     "metadata": {},
     "output_type": "execute_result"
    }
   ],
   "source": [
    "data.dtypes"
   ]
  },
  {
   "cell_type": "code",
   "execution_count": 95,
   "metadata": {},
   "outputs": [
    {
     "data": {
      "text/plain": [
       "(4955, 4)"
      ]
     },
     "execution_count": 95,
     "metadata": {},
     "output_type": "execute_result"
    }
   ],
   "source": [
    "data.shape"
   ]
  },
  {
   "cell_type": "code",
   "execution_count": 96,
   "metadata": {},
   "outputs": [
    {
     "data": {
      "text/plain": [
       "Drug       0\n",
       "Disease    0\n",
       "Gender     0\n",
       "Age        0\n",
       "dtype: int64"
      ]
     },
     "execution_count": 96,
     "metadata": {},
     "output_type": "execute_result"
    }
   ],
   "source": [
    "#check and handling missing values\n",
    "data.isnull().sum()"
   ]
  },
  {
   "cell_type": "code",
   "execution_count": 97,
   "metadata": {},
   "outputs": [],
   "source": [
    "# data preprocessing"
   ]
  },
  {
   "cell_type": "code",
   "execution_count": 98,
   "metadata": {},
   "outputs": [],
   "source": [
    "data.replace({'Gender':{'Female':0,'male':1}},inplace=True)"
   ]
  },
  {
   "cell_type": "code",
   "execution_count": 99,
   "metadata": {},
   "outputs": [],
   "source": [
    "x= data[['Disease']]"
   ]
  },
  {
   "cell_type": "code",
   "execution_count": 100,
   "metadata": {},
   "outputs": [
    {
     "data": {
      "text/plain": [
       "array(['Acne', 'Allergy', 'Diabetes', 'Fungal infection',\n",
       "       'Urinary tract infection', 'Malaria', 'Migraine', 'Hepatitis B',\n",
       "       'AIDS'], dtype=object)"
      ]
     },
     "execution_count": 100,
     "metadata": {},
     "output_type": "execute_result"
    }
   ],
   "source": [
    "x.Disease.unique()"
   ]
  },
  {
   "cell_type": "code",
   "execution_count": 101,
   "metadata": {},
   "outputs": [],
   "source": [
    "data.replace({'Disease':{'Acne':0, 'Allergy':1, 'Diabetes':2, 'Fungal infection':3,\n",
    "       'Urinary tract infection':4, 'Malaria':5, 'Migraine':6, 'Hepatitis B':7,\n",
    "       'AIDS':8}},inplace=True)"
   ]
  },
  {
   "cell_type": "code",
   "execution_count": 102,
   "metadata": {},
   "outputs": [
    {
     "data": {
      "text/plain": [
       "<bound method NDFrame.head of                                                    Drug  Disease Gender  Age\n",
       "0                  A CN Gel(Topical) 20gmA CN Soap 75gm        0   Male   23\n",
       "1     A Ret 0.05% Gel 20gmA Ret 0.1% Gel 20gmA Ret 0...        0   Male   23\n",
       "2                                ACGEL CL NANO Gel 15gm        0   Male   23\n",
       "3                                   ACGEL NANO Gel 15gm        0   Male   23\n",
       "4                                 Acleen 1% Lotion 25ml        0   Male   23\n",
       "5                                 Aclene 0.10% Gel 15gm        0   Male   23\n",
       "6                                        Acnay Gel 10gm        0   Male   23\n",
       "7                   Acne Aid Bar 50gmAcne Aid Bar 100gm        0   Male   23\n",
       "8                                      Acne UV Gel 60gm        0   Male   23\n",
       "9                               Acne UV SPF 30 Gel 30gm        0   Male   23\n",
       "10                                    Acnecure Gel 20gm        0   Male   23\n",
       "11                                     Acnedap Gel 15gm        0   Male   23\n",
       "12                                Acnedap Plus Gel 15gm        0   Male   23\n",
       "13                                     Acnehit Gel 15gm        0   Male   23\n",
       "14                                    Acnelak Soap 75gm        0   Male   23\n",
       "15                               Acnelak Clz Cream 15gm        0   Male   23\n",
       "16                                Acnelak Z Lotion 15gm        0   Male   23\n",
       "17                                 Acnemoist Cream 60gm        0   Male   23\n",
       "18                                    Acnerex Soap 75gm        0   Male   23\n",
       "19    Acneril 1% Gel 10gmAcneril Tablet 10Acneril 0....        0   Male   23\n",
       "20    Acnesol 1% Solution 25mlAcnesol Gel 20gmAcneso...        0   Male   23\n",
       "21                              Acnesol A Nano Gel 15gm        0   Male   23\n",
       "22                                  Acnesol CL Gel 15gm        0   Male   23\n",
       "23                                   Acnestal Soap 75gm        0   Male   23\n",
       "24    Acnestar 10mg Capsule 10'SAcnestar 2.5% Soap 7...        0   Male   23\n",
       "25          Acnetoin 20mg Capsule 10'SAcnetoin Gel 15gm        0   Male   23\n",
       "26                           Acnetoin Plus Oinment 15gm        0   Male   23\n",
       "27                          Acnetor AD 1% Ointment 15gm        0   Male   23\n",
       "28               Acnetor AD Cream 15Acnetor AD Gel 15gm        0   Male   23\n",
       "29                                     Acnewar Gel 15gm        0   Male   23\n",
       "...                                                 ...      ...    ...  ...\n",
       "4925                      Virocomb E Compliance Kit 1'S        8   Male   37\n",
       "4926                          Virolans 30mg Tablet 60'S        8   Male   32\n",
       "4927                          Virolfi 450mg Tablet 10'S        8   Male   37\n",
       "4928  Virolis 30mg Tablet 60'SVirolis 150/40mg Table...        8   Male   37\n",
       "4929                    Virolis E 30 Compliance Kit 1'S        8   Male   37\n",
       "4930  Viromax 800Mg Tablet 10'sViromax 400Mg Tablet ...        8   Male   36\n",
       "4931                       Viromax Dt 200Mg Tablet 10's        8   Male   37\n",
       "4932                                Viropil Tablet 30'S        8   Male   37\n",
       "4933                              Virotrenz Tablet 30'S        8   Male   37\n",
       "4934   Virovir 250mg Tablet 6'SVirovir 500mg Tablet 3'S        8   Male   37\n",
       "4935                            Virso 400mg Tablet 28'S        8   Male   35\n",
       "4936                                     Virson Gel 5gm        8   Male   37\n",
       "4937                                Vonaday Tablet 30'S        8   Male   34\n",
       "4938                                Vonavir Tablet 30'S        8   Male   37\n",
       "4939  Vorior 4.5mg Injection 1'SVorior 2.25mg Inject...        8   Male   37\n",
       "4940              Windose Syrup 60mlWindose Tablet 10'S        8   Male   37\n",
       "4941                         Zenclovir 400mg Tablet 5'S        8   Male   37\n",
       "4942                           Zepdon 400mg Tablet 60'S        8   Male   37\n",
       "4943                           Zidine 300mg Tablet 60'S        8   Male   33\n",
       "4944  Zidolam 150/300mg Tablet 10'SZidolam 150/300mg...        8   Male   37\n",
       "4945                Zidolam N 150/300/200mg Tablet 60'S        8   Male   37\n",
       "4946  Zidovir 300mg Tablet 10'SZidovir 300mg Capsule...        8   Male   13\n",
       "4947                       Zidovudine 300mg Tablet 10'S        8   Male   37\n",
       "4948                           ZILION 300mg Tablet 10's        8   Male   37\n",
       "4949  Zimivir 1000mg Tablet 3'SZimivir 500mg Tablet 3'S        8   Male   17\n",
       "4950                          Zosovir 400mg Tablet 28'S        8   Male   37\n",
       "4951  Zoster 800mg Tablet 10'SZoster 5% Cream 5gmZos...        8   Male   37\n",
       "4952                                Zovilam Tablet 60'S        8      0   57\n",
       "4953  Zovir 400mg Tablet 10'SZovir 200mg Tablet 10'S...        8      0   37\n",
       "4954  Zovirax 250mg InjectionZovirax 200mg Tablet 5'...        8      0   57\n",
       "\n",
       "[4955 rows x 4 columns]>"
      ]
     },
     "execution_count": 102,
     "metadata": {},
     "output_type": "execute_result"
    }
   ],
   "source": [
    "data.head"
   ]
  },
  {
   "cell_type": "code",
   "execution_count": null,
   "metadata": {},
   "outputs": [],
   "source": []
  },
  {
   "cell_type": "code",
   "execution_count": 16,
   "metadata": {},
   "outputs": [
    {
     "data": {
      "text/plain": [
       "Drug       object\n",
       "Disease     int64\n",
       "Gender     object\n",
       "Age         int64\n",
       "dtype: object"
      ]
     },
     "execution_count": 16,
     "metadata": {},
     "output_type": "execute_result"
    }
   ],
   "source": [
    "data.dtypes"
   ]
  },
  {
   "cell_type": "code",
   "execution_count": 21,
   "metadata": {},
   "outputs": [],
   "source": [
    "data.replace({'Gender':{'Female':0,'Male':1}},inplace=True)"
   ]
  },
  {
   "cell_type": "code",
   "execution_count": 20,
   "metadata": {},
   "outputs": [
    {
     "data": {
      "text/plain": [
       "Drug       object\n",
       "Disease     int64\n",
       "Gender     object\n",
       "Age         int64\n",
       "dtype: object"
      ]
     },
     "execution_count": 20,
     "metadata": {},
     "output_type": "execute_result"
    }
   ],
   "source": [
    "data.dtypes"
   ]
  },
  {
   "cell_type": "code",
   "execution_count": 22,
   "metadata": {},
   "outputs": [
    {
     "data": {
      "text/plain": [
       "Drug       object\n",
       "Disease     int64\n",
       "Gender      int64\n",
       "Age         int64\n",
       "dtype: object"
      ]
     },
     "execution_count": 22,
     "metadata": {},
     "output_type": "execute_result"
    }
   ],
   "source": [
    "data.dtypes"
   ]
  },
  {
   "cell_type": "code",
   "execution_count": 32,
   "metadata": {},
   "outputs": [],
   "source": [
    "#fitting the model\n",
    "#feature selection\n",
    "df_x=data[['Disease','Gender','Age']]\n",
    "df_y=data[['Drug']]"
   ]
  },
  {
   "cell_type": "code",
   "execution_count": 24,
   "metadata": {},
   "outputs": [
    {
     "data": {
      "text/plain": [
       "<bound method NDFrame.head of                                                    Drug  Disease  Gender  Age\n",
       "0                  A CN Gel(Topical) 20gmA CN Soap 75gm        0       1   23\n",
       "1     A Ret 0.05% Gel 20gmA Ret 0.1% Gel 20gmA Ret 0...        0       1   23\n",
       "2                                ACGEL CL NANO Gel 15gm        0       1   23\n",
       "3                                   ACGEL NANO Gel 15gm        0       1   23\n",
       "4                                 Acleen 1% Lotion 25ml        0       1   23\n",
       "5                                 Aclene 0.10% Gel 15gm        0       1   23\n",
       "6                                        Acnay Gel 10gm        0       1   23\n",
       "7                   Acne Aid Bar 50gmAcne Aid Bar 100gm        0       1   23\n",
       "8                                      Acne UV Gel 60gm        0       1   23\n",
       "9                               Acne UV SPF 30 Gel 30gm        0       1   23\n",
       "10                                    Acnecure Gel 20gm        0       1   23\n",
       "11                                     Acnedap Gel 15gm        0       1   23\n",
       "12                                Acnedap Plus Gel 15gm        0       1   23\n",
       "13                                     Acnehit Gel 15gm        0       1   23\n",
       "14                                    Acnelak Soap 75gm        0       1   23\n",
       "15                               Acnelak Clz Cream 15gm        0       1   23\n",
       "16                                Acnelak Z Lotion 15gm        0       1   23\n",
       "17                                 Acnemoist Cream 60gm        0       1   23\n",
       "18                                    Acnerex Soap 75gm        0       1   23\n",
       "19    Acneril 1% Gel 10gmAcneril Tablet 10Acneril 0....        0       1   23\n",
       "20    Acnesol 1% Solution 25mlAcnesol Gel 20gmAcneso...        0       1   23\n",
       "21                              Acnesol A Nano Gel 15gm        0       1   23\n",
       "22                                  Acnesol CL Gel 15gm        0       1   23\n",
       "23                                   Acnestal Soap 75gm        0       1   23\n",
       "24    Acnestar 10mg Capsule 10'SAcnestar 2.5% Soap 7...        0       1   23\n",
       "25          Acnetoin 20mg Capsule 10'SAcnetoin Gel 15gm        0       1   23\n",
       "26                           Acnetoin Plus Oinment 15gm        0       1   23\n",
       "27                          Acnetor AD 1% Ointment 15gm        0       1   23\n",
       "28               Acnetor AD Cream 15Acnetor AD Gel 15gm        0       1   23\n",
       "29                                     Acnewar Gel 15gm        0       1   23\n",
       "...                                                 ...      ...     ...  ...\n",
       "4925                      Virocomb E Compliance Kit 1'S        8       1   37\n",
       "4926                          Virolans 30mg Tablet 60'S        8       1   32\n",
       "4927                          Virolfi 450mg Tablet 10'S        8       1   37\n",
       "4928  Virolis 30mg Tablet 60'SVirolis 150/40mg Table...        8       1   37\n",
       "4929                    Virolis E 30 Compliance Kit 1'S        8       1   37\n",
       "4930  Viromax 800Mg Tablet 10'sViromax 400Mg Tablet ...        8       1   36\n",
       "4931                       Viromax Dt 200Mg Tablet 10's        8       1   37\n",
       "4932                                Viropil Tablet 30'S        8       1   37\n",
       "4933                              Virotrenz Tablet 30'S        8       1   37\n",
       "4934   Virovir 250mg Tablet 6'SVirovir 500mg Tablet 3'S        8       1   37\n",
       "4935                            Virso 400mg Tablet 28'S        8       1   35\n",
       "4936                                     Virson Gel 5gm        8       1   37\n",
       "4937                                Vonaday Tablet 30'S        8       1   34\n",
       "4938                                Vonavir Tablet 30'S        8       1   37\n",
       "4939  Vorior 4.5mg Injection 1'SVorior 2.25mg Inject...        8       1   37\n",
       "4940              Windose Syrup 60mlWindose Tablet 10'S        8       1   37\n",
       "4941                         Zenclovir 400mg Tablet 5'S        8       1   37\n",
       "4942                           Zepdon 400mg Tablet 60'S        8       1   37\n",
       "4943                           Zidine 300mg Tablet 60'S        8       1   33\n",
       "4944  Zidolam 150/300mg Tablet 10'SZidolam 150/300mg...        8       1   37\n",
       "4945                Zidolam N 150/300/200mg Tablet 60'S        8       1   37\n",
       "4946  Zidovir 300mg Tablet 10'SZidovir 300mg Capsule...        8       1   13\n",
       "4947                       Zidovudine 300mg Tablet 10'S        8       1   37\n",
       "4948                           ZILION 300mg Tablet 10's        8       1   37\n",
       "4949  Zimivir 1000mg Tablet 3'SZimivir 500mg Tablet 3'S        8       1   17\n",
       "4950                          Zosovir 400mg Tablet 28'S        8       1   37\n",
       "4951  Zoster 800mg Tablet 10'SZoster 5% Cream 5gmZos...        8       1   37\n",
       "4952                                Zovilam Tablet 60'S        8       0   57\n",
       "4953  Zovir 400mg Tablet 10'SZovir 200mg Tablet 10'S...        8       0   37\n",
       "4954  Zovirax 250mg InjectionZovirax 200mg Tablet 5'...        8       0   57\n",
       "\n",
       "[4955 rows x 4 columns]>"
      ]
     },
     "execution_count": 24,
     "metadata": {},
     "output_type": "execute_result"
    }
   ],
   "source": [
    "data.head"
   ]
  },
  {
   "cell_type": "code",
   "execution_count": 30,
   "metadata": {},
   "outputs": [
    {
     "data": {
      "text/html": [
       "<div>\n",
       "<style scoped>\n",
       "    .dataframe tbody tr th:only-of-type {\n",
       "        vertical-align: middle;\n",
       "    }\n",
       "\n",
       "    .dataframe tbody tr th {\n",
       "        vertical-align: top;\n",
       "    }\n",
       "\n",
       "    .dataframe thead th {\n",
       "        text-align: right;\n",
       "    }\n",
       "</style>\n",
       "<table border=\"1\" class=\"dataframe\">\n",
       "  <thead>\n",
       "    <tr style=\"text-align: right;\">\n",
       "      <th></th>\n",
       "      <th>Disease</th>\n",
       "      <th>Gender</th>\n",
       "      <th>Age</th>\n",
       "    </tr>\n",
       "  </thead>\n",
       "  <tbody>\n",
       "    <tr>\n",
       "      <th>0</th>\n",
       "      <td>0</td>\n",
       "      <td>1</td>\n",
       "      <td>23</td>\n",
       "    </tr>\n",
       "    <tr>\n",
       "      <th>1</th>\n",
       "      <td>0</td>\n",
       "      <td>1</td>\n",
       "      <td>23</td>\n",
       "    </tr>\n",
       "    <tr>\n",
       "      <th>2</th>\n",
       "      <td>0</td>\n",
       "      <td>1</td>\n",
       "      <td>23</td>\n",
       "    </tr>\n",
       "    <tr>\n",
       "      <th>3</th>\n",
       "      <td>0</td>\n",
       "      <td>1</td>\n",
       "      <td>23</td>\n",
       "    </tr>\n",
       "    <tr>\n",
       "      <th>4</th>\n",
       "      <td>0</td>\n",
       "      <td>1</td>\n",
       "      <td>23</td>\n",
       "    </tr>\n",
       "  </tbody>\n",
       "</table>\n",
       "</div>"
      ],
      "text/plain": [
       "   Disease  Gender  Age\n",
       "0        0       1   23\n",
       "1        0       1   23\n",
       "2        0       1   23\n",
       "3        0       1   23\n",
       "4        0       1   23"
      ]
     },
     "execution_count": 30,
     "metadata": {},
     "output_type": "execute_result"
    }
   ],
   "source": [
    "df_x.head()\n"
   ]
  },
  {
   "cell_type": "code",
   "execution_count": 108,
   "metadata": {
    "scrolled": true
   },
   "outputs": [
    {
     "data": {
      "text/html": [
       "<div>\n",
       "<style scoped>\n",
       "    .dataframe tbody tr th:only-of-type {\n",
       "        vertical-align: middle;\n",
       "    }\n",
       "\n",
       "    .dataframe tbody tr th {\n",
       "        vertical-align: top;\n",
       "    }\n",
       "\n",
       "    .dataframe thead th {\n",
       "        text-align: right;\n",
       "    }\n",
       "</style>\n",
       "<table border=\"1\" class=\"dataframe\">\n",
       "  <thead>\n",
       "    <tr style=\"text-align: right;\">\n",
       "      <th></th>\n",
       "      <th>Drug</th>\n",
       "      <th>Disease</th>\n",
       "      <th>Gender</th>\n",
       "      <th>Age</th>\n",
       "    </tr>\n",
       "  </thead>\n",
       "  <tbody>\n",
       "    <tr>\n",
       "      <th>4950</th>\n",
       "      <td>Zosovir 400mg Tablet 28'S</td>\n",
       "      <td>AIDS</td>\n",
       "      <td>Male</td>\n",
       "      <td>37</td>\n",
       "    </tr>\n",
       "    <tr>\n",
       "      <th>4951</th>\n",
       "      <td>Zoster 800mg Tablet 10'SZoster 5% Cream 5gmZos...</td>\n",
       "      <td>AIDS</td>\n",
       "      <td>Male</td>\n",
       "      <td>37</td>\n",
       "    </tr>\n",
       "    <tr>\n",
       "      <th>4952</th>\n",
       "      <td>Zovilam Tablet 60'S</td>\n",
       "      <td>AIDS</td>\n",
       "      <td>Female</td>\n",
       "      <td>57</td>\n",
       "    </tr>\n",
       "    <tr>\n",
       "      <th>4953</th>\n",
       "      <td>Zovir 400mg Tablet 10'SZovir 200mg Tablet 10'S...</td>\n",
       "      <td>AIDS</td>\n",
       "      <td>Female</td>\n",
       "      <td>37</td>\n",
       "    </tr>\n",
       "    <tr>\n",
       "      <th>4954</th>\n",
       "      <td>Zovirax 250mg InjectionZovirax 200mg Tablet 5'...</td>\n",
       "      <td>AIDS</td>\n",
       "      <td>Female</td>\n",
       "      <td>57</td>\n",
       "    </tr>\n",
       "  </tbody>\n",
       "</table>\n",
       "</div>"
      ],
      "text/plain": [
       "                                                   Drug Disease  Gender  Age\n",
       "4950                          Zosovir 400mg Tablet 28'S    AIDS    Male   37\n",
       "4951  Zoster 800mg Tablet 10'SZoster 5% Cream 5gmZos...    AIDS    Male   37\n",
       "4952                                Zovilam Tablet 60'S    AIDS  Female   57\n",
       "4953  Zovir 400mg Tablet 10'SZovir 200mg Tablet 10'S...    AIDS  Female   37\n",
       "4954  Zovirax 250mg InjectionZovirax 200mg Tablet 5'...    AIDS  Female   57"
      ]
     },
     "execution_count": 108,
     "metadata": {},
     "output_type": "execute_result"
    }
   ],
   "source": [
    "dataframe = pd.read_csv(\"Drug.csv\")\n",
    "dataframe.head()\n",
    "dataframe.tail()"
   ]
  },
  {
   "cell_type": "code",
   "execution_count": 107,
   "metadata": {},
   "outputs": [
    {
     "data": {
      "text/plain": [
       "4955"
      ]
     },
     "execution_count": 107,
     "metadata": {},
     "output_type": "execute_result"
    }
   ],
   "source": [
    "dataframe['Drug'].nunique()"
   ]
  },
  {
   "cell_type": "code",
   "execution_count": 31,
   "metadata": {},
   "outputs": [
    {
     "ename": "AttributeError",
     "evalue": "'list' object has no attribute 'head'",
     "output_type": "error",
     "traceback": [
      "\u001b[1;31m---------------------------------------------------------------------------\u001b[0m",
      "\u001b[1;31mAttributeError\u001b[0m                            Traceback (most recent call last)",
      "\u001b[1;32m<ipython-input-31-225721df7f09>\u001b[0m in \u001b[0;36m<module>\u001b[1;34m\u001b[0m\n\u001b[1;32m----> 1\u001b[1;33m \u001b[0mdf_y\u001b[0m\u001b[1;33m.\u001b[0m\u001b[0mhead\u001b[0m\u001b[1;33m(\u001b[0m\u001b[1;33m)\u001b[0m\u001b[1;33m\u001b[0m\u001b[1;33m\u001b[0m\u001b[0m\n\u001b[0m",
      "\u001b[1;31mAttributeError\u001b[0m: 'list' object has no attribute 'head'"
     ]
    }
   ],
   "source": [
    "df_y.head()"
   ]
  },
  {
   "cell_type": "code",
   "execution_count": 33,
   "metadata": {},
   "outputs": [
    {
     "data": {
      "text/html": [
       "<div>\n",
       "<style scoped>\n",
       "    .dataframe tbody tr th:only-of-type {\n",
       "        vertical-align: middle;\n",
       "    }\n",
       "\n",
       "    .dataframe tbody tr th {\n",
       "        vertical-align: top;\n",
       "    }\n",
       "\n",
       "    .dataframe thead th {\n",
       "        text-align: right;\n",
       "    }\n",
       "</style>\n",
       "<table border=\"1\" class=\"dataframe\">\n",
       "  <thead>\n",
       "    <tr style=\"text-align: right;\">\n",
       "      <th></th>\n",
       "      <th>Drug</th>\n",
       "    </tr>\n",
       "  </thead>\n",
       "  <tbody>\n",
       "    <tr>\n",
       "      <th>0</th>\n",
       "      <td>A CN Gel(Topical) 20gmA CN Soap 75gm</td>\n",
       "    </tr>\n",
       "    <tr>\n",
       "      <th>1</th>\n",
       "      <td>A Ret 0.05% Gel 20gmA Ret 0.1% Gel 20gmA Ret 0...</td>\n",
       "    </tr>\n",
       "    <tr>\n",
       "      <th>2</th>\n",
       "      <td>ACGEL CL NANO Gel 15gm</td>\n",
       "    </tr>\n",
       "    <tr>\n",
       "      <th>3</th>\n",
       "      <td>ACGEL NANO Gel 15gm</td>\n",
       "    </tr>\n",
       "    <tr>\n",
       "      <th>4</th>\n",
       "      <td>Acleen 1% Lotion 25ml</td>\n",
       "    </tr>\n",
       "  </tbody>\n",
       "</table>\n",
       "</div>"
      ],
      "text/plain": [
       "                                                Drug\n",
       "0               A CN Gel(Topical) 20gmA CN Soap 75gm\n",
       "1  A Ret 0.05% Gel 20gmA Ret 0.1% Gel 20gmA Ret 0...\n",
       "2                             ACGEL CL NANO Gel 15gm\n",
       "3                                ACGEL NANO Gel 15gm\n",
       "4                              Acleen 1% Lotion 25ml"
      ]
     },
     "execution_count": 33,
     "metadata": {},
     "output_type": "execute_result"
    }
   ],
   "source": [
    "df_y.head()"
   ]
  },
  {
   "cell_type": "code",
   "execution_count": 34,
   "metadata": {},
   "outputs": [],
   "source": [
    "#train test split\n",
    "from sklearn.model_selection import train_test_split"
   ]
  },
  {
   "cell_type": "code",
   "execution_count": 35,
   "metadata": {},
   "outputs": [],
   "source": [
    "X_train,X_test, y_train, y_test=train_test_split(df_x,df_y,test_size=0.2,random_state=0)"
   ]
  },
  {
   "cell_type": "code",
   "execution_count": 36,
   "metadata": {},
   "outputs": [
    {
     "data": {
      "text/html": [
       "<div>\n",
       "<style scoped>\n",
       "    .dataframe tbody tr th:only-of-type {\n",
       "        vertical-align: middle;\n",
       "    }\n",
       "\n",
       "    .dataframe tbody tr th {\n",
       "        vertical-align: top;\n",
       "    }\n",
       "\n",
       "    .dataframe thead th {\n",
       "        text-align: right;\n",
       "    }\n",
       "</style>\n",
       "<table border=\"1\" class=\"dataframe\">\n",
       "  <thead>\n",
       "    <tr style=\"text-align: right;\">\n",
       "      <th></th>\n",
       "      <th>Disease</th>\n",
       "      <th>Gender</th>\n",
       "      <th>Age</th>\n",
       "    </tr>\n",
       "  </thead>\n",
       "  <tbody>\n",
       "    <tr>\n",
       "      <th>2150</th>\n",
       "      <td>2</td>\n",
       "      <td>1</td>\n",
       "      <td>23</td>\n",
       "    </tr>\n",
       "    <tr>\n",
       "      <th>167</th>\n",
       "      <td>0</td>\n",
       "      <td>0</td>\n",
       "      <td>20</td>\n",
       "    </tr>\n",
       "    <tr>\n",
       "      <th>3188</th>\n",
       "      <td>2</td>\n",
       "      <td>0</td>\n",
       "      <td>23</td>\n",
       "    </tr>\n",
       "    <tr>\n",
       "      <th>844</th>\n",
       "      <td>1</td>\n",
       "      <td>0</td>\n",
       "      <td>23</td>\n",
       "    </tr>\n",
       "    <tr>\n",
       "      <th>4129</th>\n",
       "      <td>3</td>\n",
       "      <td>0</td>\n",
       "      <td>37</td>\n",
       "    </tr>\n",
       "  </tbody>\n",
       "</table>\n",
       "</div>"
      ],
      "text/plain": [
       "      Disease  Gender  Age\n",
       "2150        2       1   23\n",
       "167         0       0   20\n",
       "3188        2       0   23\n",
       "844         1       0   23\n",
       "4129        3       0   37"
      ]
     },
     "execution_count": 36,
     "metadata": {},
     "output_type": "execute_result"
    }
   ],
   "source": [
    "X_train.head()"
   ]
  },
  {
   "cell_type": "code",
   "execution_count": 37,
   "metadata": {},
   "outputs": [
    {
     "data": {
      "text/html": [
       "<div>\n",
       "<style scoped>\n",
       "    .dataframe tbody tr th:only-of-type {\n",
       "        vertical-align: middle;\n",
       "    }\n",
       "\n",
       "    .dataframe tbody tr th {\n",
       "        vertical-align: top;\n",
       "    }\n",
       "\n",
       "    .dataframe thead th {\n",
       "        text-align: right;\n",
       "    }\n",
       "</style>\n",
       "<table border=\"1\" class=\"dataframe\">\n",
       "  <thead>\n",
       "    <tr style=\"text-align: right;\">\n",
       "      <th></th>\n",
       "      <th>Drug</th>\n",
       "    </tr>\n",
       "  </thead>\n",
       "  <tbody>\n",
       "    <tr>\n",
       "      <th>2150</th>\n",
       "      <td>Glycinorm Total 30mg Tablet 10'SGlycinorm Tota...</td>\n",
       "    </tr>\n",
       "    <tr>\n",
       "      <th>167</th>\n",
       "      <td>Dersol BH Ointment 30gm</td>\n",
       "    </tr>\n",
       "    <tr>\n",
       "      <th>3188</th>\n",
       "      <td>Wosulin New 30/70 100IU Cartridge 3X3ml</td>\n",
       "    </tr>\n",
       "    <tr>\n",
       "      <th>844</th>\n",
       "      <td>Lejet M JR Tablet 10'S</td>\n",
       "    </tr>\n",
       "    <tr>\n",
       "      <th>4129</th>\n",
       "      <td>Zocon 50mg Tablet 4'SZocon Transgel 15gmZocon ...</td>\n",
       "    </tr>\n",
       "  </tbody>\n",
       "</table>\n",
       "</div>"
      ],
      "text/plain": [
       "                                                   Drug\n",
       "2150  Glycinorm Total 30mg Tablet 10'SGlycinorm Tota...\n",
       "167                             Dersol BH Ointment 30gm\n",
       "3188            Wosulin New 30/70 100IU Cartridge 3X3ml\n",
       "844                              Lejet M JR Tablet 10'S\n",
       "4129  Zocon 50mg Tablet 4'SZocon Transgel 15gmZocon ..."
      ]
     },
     "execution_count": 37,
     "metadata": {},
     "output_type": "execute_result"
    }
   ],
   "source": [
    "y_train.head()"
   ]
  },
  {
   "cell_type": "code",
   "execution_count": 38,
   "metadata": {},
   "outputs": [],
   "source": [
    "#fitting random forest"
   ]
  },
  {
   "cell_type": "code",
   "execution_count": 68,
   "metadata": {},
   "outputs": [],
   "source": [
    "from sklearn.preprocessing import StandardScaler"
   ]
  },
  {
   "cell_type": "code",
   "execution_count": 69,
   "metadata": {},
   "outputs": [],
   "source": [
    "scaler = StandardScaler()"
   ]
  },
  {
   "cell_type": "code",
   "execution_count": 70,
   "metadata": {},
   "outputs": [],
   "source": [
    "scaled_x = scaler.fit_transform(df_x)"
   ]
  },
  {
   "cell_type": "code",
   "execution_count": 82,
   "metadata": {
    "scrolled": true
   },
   "outputs": [
    {
     "name": "stderr",
     "output_type": "stream",
     "text": [
      "C:\\Users\\user\\Anaconda3\\lib\\site-packages\\sklearn\\ensemble\\forest.py:245: FutureWarning: The default value of n_estimators will change from 10 in version 0.20 to 100 in 0.22.\n",
      "  \"10 in version 0.20 to 100 in 0.22.\", FutureWarning)\n"
     ]
    }
   ],
   "source": [
    "from sklearn.ensemble import RandomForestClassifier\n",
    "rf= RandomForestClassifier()\n",
    "rf=rf.fit(scaled_x,np.ravel(df_y))"
   ]
  },
  {
   "cell_type": "code",
   "execution_count": null,
   "metadata": {},
   "outputs": [],
   "source": []
  },
  {
   "cell_type": "code",
   "execution_count": 66,
   "metadata": {},
   "outputs": [],
   "source": [
    "from sklearn.svm import SVC"
   ]
  },
  {
   "cell_type": "code",
   "execution_count": 78,
   "metadata": {},
   "outputs": [],
   "source": [
    "\n",
    "svc= SVC()\n",
    "svc=svc.fit(scaled_x,np.ravel(df_y))"
   ]
  },
  {
   "cell_type": "raw",
   "metadata": {},
   "source": [
    "# model accuracy"
   ]
  },
  {
   "cell_type": "code",
   "execution_count": 42,
   "metadata": {},
   "outputs": [],
   "source": [
    "from sklearn.metrics import accuracy_score"
   ]
  },
  {
   "cell_type": "code",
   "execution_count": 74,
   "metadata": {},
   "outputs": [],
   "source": [
    "scaled_X_test = scaler.transform(X_test)"
   ]
  },
  {
   "cell_type": "code",
   "execution_count": 83,
   "metadata": {},
   "outputs": [
    {
     "name": "stdout",
     "output_type": "stream",
     "text": [
      "0.04238143289606458\n",
      "42\n"
     ]
    }
   ],
   "source": [
    "y_pred=rf.predict(scaled_X_test)\n",
    "print(accuracy_score(y_test,y_pred))\n",
    "print(accuracy_score(y_test,y_pred,normalize=False))"
   ]
  },
  {
   "cell_type": "code",
   "execution_count": 80,
   "metadata": {
    "scrolled": true
   },
   "outputs": [
    {
     "name": "stdout",
     "output_type": "stream",
     "text": [
      "0.03632694248234107\n",
      "36\n"
     ]
    }
   ],
   "source": [
    "y_pred_svc=svc.predict(scaled_X_test)\n",
    "print(accuracy_score(y_test,y_pred))\n",
    "print(accuracy_score(y_test,y_pred,normalize=False))"
   ]
  },
  {
   "cell_type": "code",
   "execution_count": 81,
   "metadata": {},
   "outputs": [
    {
     "name": "stdout",
     "output_type": "stream",
     "text": [
      "0.035317860746720484\n",
      "35\n"
     ]
    }
   ],
   "source": [
    "print(accuracy_score(y_test,y_pred_svc))\n",
    "print(accuracy_score(y_test,y_pred_svc,normalize=False))"
   ]
  },
  {
   "cell_type": "code",
   "execution_count": 77,
   "metadata": {},
   "outputs": [
    {
     "data": {
      "text/plain": [
       "0.03632694248234107"
      ]
     },
     "execution_count": 77,
     "metadata": {},
     "output_type": "execute_result"
    }
   ],
   "source": [
    "rf.score(scaled_X_test,y_test)"
   ]
  },
  {
   "cell_type": "code",
   "execution_count": 46,
   "metadata": {},
   "outputs": [
    {
     "name": "stdout",
     "output_type": "stream",
     "text": [
      "[\"Walaphage SR 1000mg Tablet 10'SWalaphage SR 1gm Tablet 15'S\"\n",
      " \"Allercet Pedtabs Tablet 10'SAllercet L Tablet 10'SAllercet 5mg Tablet 10'SAllercet 10mg Tablet 10'S\"\n",
      " \"Mydekla 60mg Tablet 28'S\" \"Cetcip L 5mg Tablet 10'S\"\n",
      " \"Walaphage SR 1000mg Tablet 10'SWalaphage SR 1gm Tablet 15'S\"\n",
      " \"CANS Kit 1's\" \"Mydekla 60mg Tablet 28'S\"\n",
      " 'Match 75mg Injection 1mlMatch 150mg Injection 2ml'\n",
      " 'Match 75mg Injection 1mlMatch 150mg Injection 2ml'\n",
      " \"Mydekla 60mg Tablet 28'S\"]\n"
     ]
    }
   ],
   "source": [
    "#making prediction of test dataset\n",
    "prediction=rf.predict(X_test)\n",
    "print(prediction[0:10])"
   ]
  },
  {
   "cell_type": "code",
   "execution_count": 49,
   "metadata": {},
   "outputs": [
    {
     "name": "stdout",
     "output_type": "stream",
     "text": [
      "[ 5  1 24]\n"
     ]
    }
   ],
   "source": [
    "#making pradiction for patient w. Malaria,male,24\n",
    "#in the array ....malari -5,male-1,age-24\n",
    "test=[5,1,24]\n",
    "test=np.array(test)\n",
    "print(test)\n",
    "test=np.array(test).reshape(1,-1)"
   ]
  },
  {
   "cell_type": "code",
   "execution_count": 50,
   "metadata": {},
   "outputs": [
    {
     "name": "stdout",
     "output_type": "stream",
     "text": [
      "(1, 3)\n"
     ]
    }
   ],
   "source": [
    "print(test.shape)"
   ]
  },
  {
   "cell_type": "code",
   "execution_count": 52,
   "metadata": {},
   "outputs": [
    {
     "name": "stdout",
     "output_type": "stream",
     "text": [
      "Combither Forte 80/480mg Tablet 6'S\n"
     ]
    }
   ],
   "source": [
    "#recommend drugbased on disease,gender,age\n",
    "prediction=rf.predict(test)\n",
    "print(prediction[0])\n"
   ]
  },
  {
   "cell_type": "code",
   "execution_count": 53,
   "metadata": {},
   "outputs": [
    {
     "data": {
      "text/plain": [
       "['Model_final/medical_rf.pkl']"
      ]
     },
     "execution_count": 53,
     "metadata": {},
     "output_type": "execute_result"
    }
   ],
   "source": [
    "#dumping the model\n",
    "import joblib as joblib\n",
    "joblib.dump(rf,'Model_final/medical_rf.pkl')"
   ]
  },
  {
   "cell_type": "code",
   "execution_count": 55,
   "metadata": {},
   "outputs": [],
   "source": [
    "clf=joblib.load('Model_final/medical_rf.pkl')"
   ]
  },
  {
   "cell_type": "code",
   "execution_count": 56,
   "metadata": {},
   "outputs": [
    {
     "name": "stdout",
     "output_type": "stream",
     "text": [
      "Combither Forte 80/480mg Tablet 6'S\n"
     ]
    }
   ],
   "source": [
    "prediction=clf.predict(test)\n",
    "print(prediction[0])"
   ]
  },
  {
   "cell_type": "code",
   "execution_count": 85,
   "metadata": {},
   "outputs": [],
   "source": [
    "#fitting naive bayes\n",
    "from sklearn.naive_bayes import GaussianNB\n",
    "gnb=GaussianNB()\n",
    "gnb=gnb.fit(scaled_x,np.ravel(df_y))"
   ]
  },
  {
   "cell_type": "code",
   "execution_count": 86,
   "metadata": {},
   "outputs": [
    {
     "name": "stdout",
     "output_type": "stream",
     "text": [
      "0.039354187689202826\n",
      "39\n"
     ]
    }
   ],
   "source": [
    "#checking the accuracy\n",
    "y_pred=gnb.predict(scaled_X_test)\n",
    "print(accuracy_score(y_test,y_pred))\n",
    "print(accuracy_score(y_test,y_pred,normalize=False))"
   ]
  },
  {
   "cell_type": "code",
   "execution_count": 88,
   "metadata": {},
   "outputs": [
    {
     "data": {
      "text/plain": [
       "0.039354187689202826"
      ]
     },
     "execution_count": 88,
     "metadata": {},
     "output_type": "execute_result"
    }
   ],
   "source": [
    "gnb.score(scaled_X_test,y_test)"
   ]
  },
  {
   "cell_type": "code",
   "execution_count": 63,
   "metadata": {},
   "outputs": [
    {
     "name": "stdout",
     "output_type": "stream",
     "text": [
      "[\"Combither Forte 80/480mg Tablet 6'S\"]\n"
     ]
    }
   ],
   "source": [
    "#making recommendation of drug names\n",
    "result=gnb.predict(test)\n",
    "print(result)"
   ]
  },
  {
   "cell_type": "code",
   "execution_count": 64,
   "metadata": {},
   "outputs": [
    {
     "data": {
      "text/plain": [
       "['Model_final/medical_nb.pkl']"
      ]
     },
     "execution_count": 64,
     "metadata": {},
     "output_type": "execute_result"
    }
   ],
   "source": [
    "#dump the model\n",
    "joblib.dump(gnb,'Model_final/medical_nb.pkl')"
   ]
  },
  {
   "cell_type": "code",
   "execution_count": null,
   "metadata": {},
   "outputs": [],
   "source": [
    "8"
   ]
  }
 ],
 "metadata": {
  "kernelspec": {
   "display_name": "Python 3",
   "language": "python",
   "name": "python3"
  },
  "language_info": {
   "codemirror_mode": {
    "name": "ipython",
    "version": 3
   },
   "file_extension": ".py",
   "mimetype": "text/x-python",
   "name": "python",
   "nbconvert_exporter": "python",
   "pygments_lexer": "ipython3",
   "version": "3.7.3"
  }
 },
 "nbformat": 4,
 "nbformat_minor": 2
}
